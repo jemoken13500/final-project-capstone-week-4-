{
    "nbformat_minor": 1, 
    "cells": [
        {
            "source": "# Introduction and problematic \n\n\nWe can assume that we are contacted by a French investor wishing to open a business. In particular, a restaurant in Paris, which aims to offer 100% food for 100% \"made in france\", since the country's current policy allows a certain advantage in terms of taxes and taxes for investors favouring \"made in france\" France.\"\n\nHowever, this investor, not being from Paris, therefore does not know or placed his establishment. Moreover being aware that the economic competition is tough in this city, he decides to take all these chances on his side and ask us what is the best location for his restaurant in Paris.\n\nTherefore, we will aim to find the best location for this restaurant in Paris.\n\n\n# Data\n\n- For this project data available on the Foursquare's API will be used. Because The data used includes information about different venues and their neighborhoods.\n- One of the technique which will be used is KMeans to group neighborhoods with similar objects.\n- I will use a json file for the map of Paris.\n- finally i use Foursquare to explore the neighbourhoods and determine the most popular venues per neighbourhoods", 
            "cell_type": "markdown", 
            "metadata": {
                "collapsed": true
            }
        }, 
        {
            "source": "", 
            "cell_type": "code", 
            "metadata": {}, 
            "outputs": [], 
            "execution_count": null
        }
    ], 
    "metadata": {
        "kernelspec": {
            "display_name": "Python 3.5", 
            "name": "python3", 
            "language": "python"
        }, 
        "language_info": {
            "mimetype": "text/x-python", 
            "nbconvert_exporter": "python", 
            "version": "3.5.5", 
            "name": "python", 
            "file_extension": ".py", 
            "pygments_lexer": "ipython3", 
            "codemirror_mode": {
                "version": 3, 
                "name": "ipython"
            }
        }
    }, 
    "nbformat": 4
}